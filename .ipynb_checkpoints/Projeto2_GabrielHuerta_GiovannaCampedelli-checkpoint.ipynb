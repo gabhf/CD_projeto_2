{
 "cells": [
  {
   "cell_type": "markdown",
   "metadata": {},
   "source": [
    "# Projeto 2 - Ciência dos Dados?"
   ]
  },
  {
   "cell_type": "markdown",
   "metadata": {},
   "source": [
    "Nome: Gabriel Huerta\n",
    "\n",
    "Nome: Giovanna Campedelli\n"
   ]
  },
  {
   "cell_type": "code",
   "execution_count": 4,
   "metadata": {},
   "outputs": [],
   "source": [
    "import pandas as pd\n",
    "import numpy as np\n",
    "\n",
    "from IPython.display import display\n",
    "\n",
    "pd.options.display.max_rows = 13 # Escolher quantos prints as funções do pandas fazem"
   ]
  },
  {
   "cell_type": "code",
   "execution_count": 22,
   "metadata": {},
   "outputs": [],
   "source": [
    "import re \n",
    "\n",
    "def cleanup(text):\n",
    "    \"\"\"\n",
    "        Função de limpeza muito simples que troca alguns sinais básicos por espaços\n",
    "    \"\"\"\n",
    "    punctuation = '[!\\-.:?;]' # Note que os sinais [] são delimitadores de um conjunto.\n",
    "    pattern = re.compile(punctuation)\n",
    "    text_subbed = re.sub(pattern, ' ', text)\n",
    "    return text_subbed"
   ]
  },
  {
   "cell_type": "markdown",
   "metadata": {},
   "source": [
    "___"
   ]
  },
  {
   "cell_type": "markdown",
   "metadata": {},
   "source": [
    "Para a classificação dos tweets decidimos considerar como relevantes (0) os que falavam negativamente ou sobre um conteudo que prejudicasse o Netflix; como se utilizassemos estes para uma melhoria na empresa. Já os irrelentes (1), consideramos tweets positivos ou aleatórios.  "
   ]
  },
  {
   "cell_type": "markdown",
   "metadata": {},
   "source": [
    "___\n",
    "### Leitura do excel"
   ]
  },
  {
   "cell_type": "code",
   "execution_count": 6,
   "metadata": {},
   "outputs": [],
   "source": [
    "netflix_raw = pd.read_excel(\"exemplo_final.xlsx\", sheet_name = \"Treinamento\")"
   ]
  },
  {
   "cell_type": "code",
   "execution_count": 7,
   "metadata": {},
   "outputs": [],
   "source": [
    "teste = pd.read_excel(\"exemplo_final.xlsx\", sheet_name = \"Teste\")"
   ]
  },
  {
   "cell_type": "code",
   "execution_count": 8,
   "metadata": {},
   "outputs": [],
   "source": [
    "netflix_raw = netflix_raw.rename(columns = {\"Unnamed: 1\": \"Classificação\"})"
   ]
  },
  {
   "cell_type": "markdown",
   "metadata": {},
   "source": [
    "### Limpezas das bases"
   ]
  },
  {
   "cell_type": "code",
   "execution_count": 9,
   "metadata": {},
   "outputs": [
    {
     "data": {
      "text/plain": [
       "0.21926910299003322"
      ]
     },
     "execution_count": 9,
     "metadata": {},
     "output_type": "execute_result"
    }
   ],
   "source": [
    "treinamento_zero = netflix_raw.loc[netflix_raw[\"Classificação\"] == 0][\"Treinamento\"]\n",
    "p_rel = len(treinamento_zero)/len(netflix_raw)\n",
    "p_rel"
   ]
  },
  {
   "cell_type": "code",
   "execution_count": 10,
   "metadata": {},
   "outputs": [],
   "source": [
    "treinamento_um = netflix_raw.loc[netflix_raw[\"Classificação\"] == 1][\"Treinamento\"]"
   ]
  },
  {
   "cell_type": "code",
   "execution_count": 11,
   "metadata": {},
   "outputs": [],
   "source": [
    "trei_zero = \" \".join(treinamento_zero)\n",
    "\n",
    "trei_um = \" \".join(treinamento_um)"
   ]
  },
  {
   "cell_type": "code",
   "execution_count": 12,
   "metadata": {},
   "outputs": [],
   "source": [
    "zero_trei = cleanup(trei_zero.lower())\n",
    "\n",
    "um_trei = cleanup(trei_um.lower())"
   ]
  },
  {
   "cell_type": "code",
   "execution_count": 36,
   "metadata": {},
   "outputs": [
    {
     "data": {
      "text/plain": [
       "0        netflix\n",
       "1          nunca\n",
       "2            vou\n",
       "3             te\n",
       "4        perdoar\n",
       "5            por\n",
       "          ...   \n",
       "1227          de\n",
       "1228       volta\n",
       "1229          no\n",
       "1230    catálogo\n",
       "1231          da\n",
       "1232     netflix\n",
       "Length: 1233, dtype: object"
      ]
     },
     "execution_count": 36,
     "metadata": {},
     "output_type": "execute_result"
    }
   ],
   "source": [
    "serie_trei0 = pd.Series(zero_trei.split())\n",
    "\n",
    "serie_trei1 = pd.Series(um_trei.split())"
   ]
  },
  {
   "cell_type": "code",
   "execution_count": 14,
   "metadata": {},
   "outputs": [
    {
     "data": {
      "text/plain": [
       "netflix         64\n",
       "a               45\n",
       "que             40\n",
       "não             27\n",
       "de              27\n",
       "o               24\n",
       "                ..\n",
       "jane             2\n",
       "@seriestwbz      2\n",
       "vindo            2\n",
       "adolescentes     2\n",
       "três             2\n",
       "corrigiria       2\n",
       "Length: 554, dtype: int64"
      ]
     },
     "execution_count": 14,
     "metadata": {},
     "output_type": "execute_result"
    }
   ],
   "source": [
    "tabela_trei0 = serie_trei0.value_counts()+1\n",
    "\n",
    "tabela_trei1 = serie_trei1.value_counts()+1\n",
    "\n",
    "\n",
    "total = len(tabela_trei0)+len(tabela_trei1)\n",
    "\n",
    "b = len(tabela_trei0)\n",
    "c = len(tabela_trei1)\n",
    "tabela_trei0"
   ]
  },
  {
   "cell_type": "code",
   "execution_count": 15,
   "metadata": {},
   "outputs": [
    {
     "data": {
      "text/plain": [
       "1891"
      ]
     },
     "execution_count": 15,
     "metadata": {},
     "output_type": "execute_result"
    }
   ],
   "source": [
    "set_trei0 = set(tabela_trei0.index)\n",
    "set_trei1 = set(tabela_trei1.index)\n",
    "d = len(set_trei0.union(set_trei1))\n",
    "d"
   ]
  },
  {
   "cell_type": "markdown",
   "metadata": {},
   "source": [
    "___\n",
    "### Montando o Classificador Naive-Bayes\n",
    "\n",
    "Considerando apenas as mensagens da planilha Treinamento, ensine  seu classificador."
   ]
  },
  {
   "cell_type": "code",
   "execution_count": 16,
   "metadata": {},
   "outputs": [],
   "source": [
    "teste[\"programa\"] = -1"
   ]
  },
  {
   "cell_type": "code",
   "execution_count": 37,
   "metadata": {},
   "outputs": [],
   "source": [
    "#Laplace: tabela_trei0 de uma palavra * probabilidade/ (d + total)"
   ]
  },
  {
   "cell_type": "code",
   "execution_count": 45,
   "metadata": {},
   "outputs": [],
   "source": [
    "lista=[]\n",
    "\n",
    "for tweet in teste.Treino:\n",
    "    p_tweet_rel=1\n",
    "    p_tweet_irr=1\n",
    "    \n",
    "    tweet_ = cleanup(tweet)\n",
    "    palavra = tweet_.split()\n",
    "\n",
    "    for palavra in tweet:\n",
    "        freq0 = 0\n",
    "        freq1 = 0\n",
    "        \n",
    "        if palavra not in serie_trei0:\n",
    "             freq1 = 1/(d + total)\n",
    "                \n",
    "        elif palavra in serie_trei0:\n",
    "            freq1 = tabela_trei1[palavra]/(d + total)\n",
    "            \n",
    "        if palavra not in serie_trei1:\n",
    "            freq0 = 1/(d + total)\n",
    "            \n",
    "        elif palavra in serie_trei1:\n",
    "            freq0 = tabela_trei0[palavra]/(d + total)\n",
    "        \n",
    "        p_tweet_rel *= p0\n",
    "        p_tweet_irr *= p1\n",
    "  \n",
    "    rel = p_tweet_rel * p_rel\n",
    "    irr = p_tweet_irr* (1- p_rel)   \n",
    "    \n",
    "    if rel > irr:\n",
    "        x = 0\n",
    "    else:\n",
    "        x = 1\n",
    "        \n",
    "    teste[\"programa\"] = x\n",
    "    #lista.append(x)\n"
   ]
  },
  {
   "cell_type": "code",
   "execution_count": 46,
   "metadata": {},
   "outputs": [
    {
     "data": {
      "text/html": [
       "<div>\n",
       "<style scoped>\n",
       "    .dataframe tbody tr th:only-of-type {\n",
       "        vertical-align: middle;\n",
       "    }\n",
       "\n",
       "    .dataframe tbody tr th {\n",
       "        vertical-align: top;\n",
       "    }\n",
       "\n",
       "    .dataframe thead th {\n",
       "        text-align: right;\n",
       "    }\n",
       "</style>\n",
       "<table border=\"1\" class=\"dataframe\">\n",
       "  <thead>\n",
       "    <tr style=\"text-align: right;\">\n",
       "      <th></th>\n",
       "      <th>Treino</th>\n",
       "      <th>Unnamed: 1</th>\n",
       "      <th>programa</th>\n",
       "    </tr>\n",
       "  </thead>\n",
       "  <tbody>\n",
       "    <tr>\n",
       "      <th>0</th>\n",
       "      <td>pq o netflix nao deixa eu baixar desperate hou...</td>\n",
       "      <td>0</td>\n",
       "      <td>1</td>\n",
       "    </tr>\n",
       "    <tr>\n",
       "      <th>1</th>\n",
       "      <td>botaram na netflix ai ui estareiii assistindooooo</td>\n",
       "      <td>1</td>\n",
       "      <td>1</td>\n",
       "    </tr>\n",
       "    <tr>\n",
       "      <th>2</th>\n",
       "      <td>\"- pai, que série é essa?\\n- a linha.\"\\nfui pr...</td>\n",
       "      <td>1</td>\n",
       "      <td>1</td>\n",
       "    </tr>\n",
       "    <tr>\n",
       "      <th>3</th>\n",
       "      <td>rt @1vanc_: quem jogou todos god of wars não p...</td>\n",
       "      <td>0</td>\n",
       "      <td>1</td>\n",
       "    </tr>\n",
       "    <tr>\n",
       "      <th>4</th>\n",
       "      <td>recebendo notificação da netflix de cinquentas...</td>\n",
       "      <td>1</td>\n",
       "      <td>1</td>\n",
       "    </tr>\n",
       "    <tr>\n",
       "      <th>5</th>\n",
       "      <td>rt @suckmenerd: vocês acreditam mm nisso dos 1...</td>\n",
       "      <td>0</td>\n",
       "      <td>1</td>\n",
       "    </tr>\n",
       "    <tr>\n",
       "      <th>...</th>\n",
       "      <td>...</td>\n",
       "      <td>...</td>\n",
       "      <td>...</td>\n",
       "    </tr>\n",
       "    <tr>\n",
       "      <th>201</th>\n",
       "      <td>rt @claramadrigano: eu aos 22 anos: quero pare...</td>\n",
       "      <td>1</td>\n",
       "      <td>1</td>\n",
       "    </tr>\n",
       "    <tr>\n",
       "      <th>202</th>\n",
       "      <td>@cliffordyian é pq titans não é  da netflix,pr...</td>\n",
       "      <td>1</td>\n",
       "      <td>1</td>\n",
       "    </tr>\n",
       "    <tr>\n",
       "      <th>203</th>\n",
       "      <td>@chbolt tem na netflix???? quantas temp são?</td>\n",
       "      <td>1</td>\n",
       "      <td>1</td>\n",
       "    </tr>\n",
       "    <tr>\n",
       "      <th>204</th>\n",
       "      <td>chuvinha boa pra tá em casa deitado assistindo...</td>\n",
       "      <td>1</td>\n",
       "      <td>1</td>\n",
       "    </tr>\n",
       "    <tr>\n",
       "      <th>205</th>\n",
       "      <td>credo hoje não parei um minuto no serviço só p...</td>\n",
       "      <td>1</td>\n",
       "      <td>1</td>\n",
       "    </tr>\n",
       "    <tr>\n",
       "      <th>206</th>\n",
       "      <td>@ainarasouto nah, ireina vendo os poucos que n...</td>\n",
       "      <td>1</td>\n",
       "      <td>1</td>\n",
       "    </tr>\n",
       "  </tbody>\n",
       "</table>\n",
       "<p>207 rows × 3 columns</p>\n",
       "</div>"
      ],
      "text/plain": [
       "                                                Treino  Unnamed: 1  programa\n",
       "0    pq o netflix nao deixa eu baixar desperate hou...           0         1\n",
       "1    botaram na netflix ai ui estareiii assistindooooo           1         1\n",
       "2    \"- pai, que série é essa?\\n- a linha.\"\\nfui pr...           1         1\n",
       "3    rt @1vanc_: quem jogou todos god of wars não p...           0         1\n",
       "4    recebendo notificação da netflix de cinquentas...           1         1\n",
       "5    rt @suckmenerd: vocês acreditam mm nisso dos 1...           0         1\n",
       "..                                                 ...         ...       ...\n",
       "201  rt @claramadrigano: eu aos 22 anos: quero pare...           1         1\n",
       "202  @cliffordyian é pq titans não é  da netflix,pr...           1         1\n",
       "203       @chbolt tem na netflix???? quantas temp são?           1         1\n",
       "204  chuvinha boa pra tá em casa deitado assistindo...           1         1\n",
       "205  credo hoje não parei um minuto no serviço só p...           1         1\n",
       "206  @ainarasouto nah, ireina vendo os poucos que n...           1         1\n",
       "\n",
       "[207 rows x 3 columns]"
      ]
     },
     "execution_count": 46,
     "metadata": {},
     "output_type": "execute_result"
    }
   ],
   "source": [
    "teste"
   ]
  },
  {
   "cell_type": "code",
   "execution_count": null,
   "metadata": {},
   "outputs": [],
   "source": []
  },
  {
   "cell_type": "code",
   "execution_count": null,
   "metadata": {},
   "outputs": [],
   "source": []
  },
  {
   "cell_type": "markdown",
   "metadata": {},
   "source": [
    "___\n",
    "### Verificando a performance\n",
    "\n",
    "Agora você deve testar o seu classificador com a base de Testes."
   ]
  },
  {
   "cell_type": "markdown",
   "metadata": {},
   "source": [
    "___\n",
    "### Concluindo"
   ]
  },
  {
   "cell_type": "markdown",
   "metadata": {},
   "source": [
    "## Aperfeiçoamento:\n",
    "\n",
    "Os trabalhos vão evoluir em conceito dependendo da quantidade de itens avançados:\n",
    "\n",
    "* Limpar: \\n, :, \", ', (, ), etc SEM remover emojis\n",
    "* Corrigir separação de espaços entre palavras e emojis ou emojis e emojis\n",
    "* Propor outras limpezas e transformações que não afetem a qualidade da informação ou classificação\n",
    "* Criar categorias intermediárias de relevância baseadas na probabilidade: ex.: muito relevante, relevante, neutro, irrelevante, muito irrelevante (3 categorias: C, mais categorias conta para B)\n",
    "* Explicar por que não posso usar o próprio classificador para gerar mais amostras de treinamento\n",
    "* Propor diferentes cenários para Naïve Bayes fora do contexto do projeto\n",
    "* Sugerir e explicar melhorias reais com indicações concretas de como implementar (indicar como fazer e indicar material de pesquisa)\n",
    "* Montar um dashboard que periodicamente realiza análise de sentimento e visualiza estes dados"
   ]
  },
  {
   "cell_type": "code",
   "execution_count": null,
   "metadata": {},
   "outputs": [],
   "source": []
  }
 ],
 "metadata": {
  "kernelspec": {
   "display_name": "Python 3",
   "language": "python",
   "name": "python3"
  },
  "language_info": {
   "codemirror_mode": {
    "name": "ipython",
    "version": 3
   },
   "file_extension": ".py",
   "mimetype": "text/x-python",
   "name": "python",
   "nbconvert_exporter": "python",
   "pygments_lexer": "ipython3",
   "version": "3.7.3"
  }
 },
 "nbformat": 4,
 "nbformat_minor": 2
}
