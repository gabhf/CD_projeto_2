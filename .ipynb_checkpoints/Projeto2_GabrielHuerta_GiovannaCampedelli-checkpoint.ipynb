{
 "cells": [
  {
   "cell_type": "markdown",
   "metadata": {},
   "source": [
    "# Projeto 2 - Ciência dos Dados?"
   ]
  },
  {
   "cell_type": "markdown",
   "metadata": {},
   "source": [
    "Nome: Gabriel Huerta\n",
    "\n",
    "Nome: Giovanna Campedelli\n"
   ]
  },
  {
   "cell_type": "code",
   "execution_count": 58,
   "metadata": {},
   "outputs": [],
   "source": [
    "import pandas as pd\n",
    "import numpy as np\n",
    "\n",
    "from IPython.display import display\n",
    "\n",
    "pd.options.display.max_rows = 13 # Escolher quantos prints as funções do pandas fazem"
   ]
  },
  {
   "cell_type": "code",
   "execution_count": 59,
   "metadata": {},
   "outputs": [],
   "source": [
    "import re \n",
    "\n",
    "def cleanup(text):\n",
    "    \"\"\"\n",
    "        Função de limpeza muito simples que troca alguns sinais básicos por espaços\n",
    "    \"\"\"\n",
    "    punctuation = '[!\\-.:?;]' # Note que os sinais [] são delimitadores de um conjunto.\n",
    "    pattern = re.compile(punctuation)\n",
    "    text_subbed = re.sub(pattern, ' ', text)\n",
    "    return text_subbed"
   ]
  },
  {
   "cell_type": "markdown",
   "metadata": {},
   "source": [
    "___"
   ]
  },
  {
   "cell_type": "markdown",
   "metadata": {},
   "source": [
    "Para a classificação dos tweets decidimos considerar como relevantes (0) os que falavam negativamente ou sobre um conteudo que prejudicasse o Netflix; como se utilizassemos estes para uma melhoria na empresa. Já os irrelentes (1), consideramos tweets positivos ou aleatórios.  "
   ]
  },
  {
   "cell_type": "markdown",
   "metadata": {},
   "source": [
    "___\n",
    "### Leitura do excel"
   ]
  },
  {
   "cell_type": "code",
   "execution_count": 60,
   "metadata": {},
   "outputs": [],
   "source": [
    "netflix_raw = pd.read_excel(\"exemplo_final.xlsx\", sheet_name = \"Treinamento\")"
   ]
  },
  {
   "cell_type": "code",
   "execution_count": 61,
   "metadata": {},
   "outputs": [],
   "source": [
    "teste = pd.read_excel(\"exemplo_final.xlsx\", sheet_name = \"Teste\")"
   ]
  },
  {
   "cell_type": "code",
   "execution_count": 62,
   "metadata": {},
   "outputs": [],
   "source": [
    "netflix_raw = netflix_raw.rename(columns = {\"Unnamed: 1\": \"Classificação\"})"
   ]
  },
  {
   "cell_type": "markdown",
   "metadata": {},
   "source": [
    "### Limpezas das bases"
   ]
  },
  {
   "cell_type": "code",
   "execution_count": 63,
   "metadata": {},
   "outputs": [
    {
     "data": {
      "text/plain": [
       "0.21926910299003322"
      ]
     },
     "execution_count": 63,
     "metadata": {},
     "output_type": "execute_result"
    }
   ],
   "source": [
    "treinamento_zero = netflix_raw.loc[netflix_raw[\"Classificação\"] == 0][\"Treinamento\"]\n",
    "p_rel = len(treinamento_zero)/len(netflix_raw)\n",
    "p_rel"
   ]
  },
  {
   "cell_type": "code",
   "execution_count": 64,
   "metadata": {},
   "outputs": [],
   "source": [
    "treinamento_um = netflix_raw.loc[netflix_raw[\"Classificação\"] == 1][\"Treinamento\"]"
   ]
  },
  {
   "cell_type": "code",
   "execution_count": 65,
   "metadata": {},
   "outputs": [],
   "source": [
    "trei_zero = \" \".join(treinamento_zero)\n",
    "\n",
    "trei_um = \" \".join(treinamento_um)"
   ]
  },
  {
   "cell_type": "code",
   "execution_count": 66,
   "metadata": {},
   "outputs": [],
   "source": [
    "zero_trei = cleanup(trei_zero.lower())\n",
    "\n",
    "um_trei = cleanup(trei_um.lower())"
   ]
  },
  {
   "cell_type": "code",
   "execution_count": 67,
   "metadata": {},
   "outputs": [],
   "source": [
    "serie_trei0 = pd.Series(zero_trei.split())\n",
    "\n",
    "serie_trei1 = pd.Series(um_trei.split())"
   ]
  },
  {
   "cell_type": "code",
   "execution_count": 68,
   "metadata": {},
   "outputs": [],
   "source": [
    "tabela_trei0 = serie_trei0.value_counts()+1\n",
    "\n",
    "tabela_trei1 = serie_trei1.value_counts()+1\n",
    "\n",
    "\n",
    "total = len(tabela_trei0)+len(tabela_trei1)\n",
    "\n",
    "b = len(tabela_trei0)\n",
    "c = len(tabela_trei1)\n"
   ]
  },
  {
   "cell_type": "code",
   "execution_count": 69,
   "metadata": {},
   "outputs": [
    {
     "data": {
      "text/plain": [
       "1891"
      ]
     },
     "execution_count": 69,
     "metadata": {},
     "output_type": "execute_result"
    }
   ],
   "source": [
    "set_trei0 = set(tabela_trei0.index)\n",
    "set_trei1 = set(tabela_trei1.index)\n",
    "d = len(set_trei0.union(set_trei1))\n",
    "d"
   ]
  },
  {
   "cell_type": "markdown",
   "metadata": {},
   "source": [
    "___\n",
    "### Montando o Classificador Naive-Bayes\n",
    "\n",
    "Considerando apenas as mensagens da planilha Treinamento, ensine  seu classificador."
   ]
  },
  {
   "cell_type": "code",
   "execution_count": 70,
   "metadata": {},
   "outputs": [],
   "source": [
    "teste[\"programa\"] = -1\n",
    "\n",
    "teste = teste.rename(columns = {\"Unnamed: 1\": \"Classificação\"})"
   ]
  },
  {
   "cell_type": "code",
   "execution_count": 71,
   "metadata": {},
   "outputs": [],
   "source": [
    "#Laplace: tabela_trei0 de uma palavra * probabilidade/ (d + total)"
   ]
  },
  {
   "cell_type": "code",
   "execution_count": 72,
   "metadata": {},
   "outputs": [],
   "source": [
    "def classifica(tweet):\n",
    "    lista=[]\n",
    "\n",
    "    p_tweet_rel=1\n",
    "    p_tweet_irr=1\n",
    "\n",
    "    tweet_ = cleanup(tweet)\n",
    "    palavra = tweet_.split()\n",
    "\n",
    "    freq0 = 0\n",
    "    freq1 = 0\n",
    "    for palavra in tweet:\n",
    "\n",
    "\n",
    "        if palavra not in serie_trei0:\n",
    "             freq0 = 1/(d + b) \n",
    "\n",
    "        elif palavra in serie_trei0:\n",
    "            freq0 = tabela_trei1[palavra]/(d + b)\n",
    "\n",
    "        if palavra not in serie_trei1:\n",
    "            freq1 = 1/(d + c)\n",
    "\n",
    "        elif palavra in serie_trei1:\n",
    "            freq1 = tabela_trei0[palavra]/(d + c)\n",
    "\n",
    "\n",
    "        p_tweet_rel *= freq0\n",
    "        p_tweet_irr *= freq1\n",
    "\n",
    "    rel = p_tweet_rel * p_rel\n",
    "    irr = p_tweet_irr* (1- p_rel)   \n",
    "\n",
    "    if rel > irr:\n",
    "        x = 0\n",
    "    else:\n",
    "        x = 1\n",
    "\n",
    "    return x"
   ]
  },
  {
   "cell_type": "markdown",
   "metadata": {},
   "source": [
    "___\n",
    "### Verificando a performance\n",
    "\n",
    "Teste do classificador com a base de Testes."
   ]
  },
  {
   "cell_type": "code",
   "execution_count": 73,
   "metadata": {},
   "outputs": [],
   "source": [
    "teste[\"programa\"]=teste.Treino.apply(classifica)"
   ]
  },
  {
   "cell_type": "code",
   "execution_count": 74,
   "metadata": {},
   "outputs": [],
   "source": [
    "total0 = len(teste.loc[teste[\"Classificação\"]==0])\n",
    "total1 = len(teste.loc[teste[\"Classificação\"]==1])"
   ]
  },
  {
   "cell_type": "code",
   "execution_count": 75,
   "metadata": {},
   "outputs": [
    {
     "data": {
      "text/html": [
       "<div>\n",
       "<style scoped>\n",
       "    .dataframe tbody tr th:only-of-type {\n",
       "        vertical-align: middle;\n",
       "    }\n",
       "\n",
       "    .dataframe tbody tr th {\n",
       "        vertical-align: top;\n",
       "    }\n",
       "\n",
       "    .dataframe thead th {\n",
       "        text-align: right;\n",
       "    }\n",
       "</style>\n",
       "<table border=\"1\" class=\"dataframe\">\n",
       "  <thead>\n",
       "    <tr style=\"text-align: right;\">\n",
       "      <th></th>\n",
       "      <th>Treino</th>\n",
       "      <th>Classificação</th>\n",
       "      <th>programa</th>\n",
       "    </tr>\n",
       "  </thead>\n",
       "  <tbody>\n",
       "    <tr>\n",
       "      <th>0</th>\n",
       "      <td>pq o netflix nao deixa eu baixar desperate hou...</td>\n",
       "      <td>0</td>\n",
       "      <td>0</td>\n",
       "    </tr>\n",
       "    <tr>\n",
       "      <th>1</th>\n",
       "      <td>botaram na netflix ai ui estareiii assistindooooo</td>\n",
       "      <td>1</td>\n",
       "      <td>0</td>\n",
       "    </tr>\n",
       "    <tr>\n",
       "      <th>2</th>\n",
       "      <td>\"- pai, que série é essa?\\n- a linha.\"\\nfui pr...</td>\n",
       "      <td>1</td>\n",
       "      <td>1</td>\n",
       "    </tr>\n",
       "    <tr>\n",
       "      <th>3</th>\n",
       "      <td>rt @1vanc_: quem jogou todos god of wars não p...</td>\n",
       "      <td>0</td>\n",
       "      <td>1</td>\n",
       "    </tr>\n",
       "    <tr>\n",
       "      <th>4</th>\n",
       "      <td>recebendo notificação da netflix de cinquentas...</td>\n",
       "      <td>1</td>\n",
       "      <td>1</td>\n",
       "    </tr>\n",
       "    <tr>\n",
       "      <th>5</th>\n",
       "      <td>rt @suckmenerd: vocês acreditam mm nisso dos 1...</td>\n",
       "      <td>0</td>\n",
       "      <td>1</td>\n",
       "    </tr>\n",
       "    <tr>\n",
       "      <th>...</th>\n",
       "      <td>...</td>\n",
       "      <td>...</td>\n",
       "      <td>...</td>\n",
       "    </tr>\n",
       "    <tr>\n",
       "      <th>46</th>\n",
       "      <td>rt @meowddows: queria q tivesse crepusculo na ...</td>\n",
       "      <td>0</td>\n",
       "      <td>1</td>\n",
       "    </tr>\n",
       "    <tr>\n",
       "      <th>47</th>\n",
       "      <td>minha mãe cancelo minha conta do netflix, vou ...</td>\n",
       "      <td>0</td>\n",
       "      <td>0</td>\n",
       "    </tr>\n",
       "    <tr>\n",
       "      <th>48</th>\n",
       "      <td>a netflix vai colocar uma versão recente de be...</td>\n",
       "      <td>1</td>\n",
       "      <td>1</td>\n",
       "    </tr>\n",
       "    <tr>\n",
       "      <th>49</th>\n",
       "      <td>eu perco mais tempo na netflix procurando film...</td>\n",
       "      <td>1</td>\n",
       "      <td>0</td>\n",
       "    </tr>\n",
       "    <tr>\n",
       "      <th>50</th>\n",
       "      <td>sério netflix? aumentar a mensalidade? isso nã...</td>\n",
       "      <td>0</td>\n",
       "      <td>0</td>\n",
       "    </tr>\n",
       "    <tr>\n",
       "      <th>51</th>\n",
       "      <td>conseguir botar netflix no vídeo game 😍</td>\n",
       "      <td>1</td>\n",
       "      <td>0</td>\n",
       "    </tr>\n",
       "  </tbody>\n",
       "</table>\n",
       "<p>52 rows × 3 columns</p>\n",
       "</div>"
      ],
      "text/plain": [
       "                                               Treino  Classificação  programa\n",
       "0   pq o netflix nao deixa eu baixar desperate hou...              0         0\n",
       "1   botaram na netflix ai ui estareiii assistindooooo              1         0\n",
       "2   \"- pai, que série é essa?\\n- a linha.\"\\nfui pr...              1         1\n",
       "3   rt @1vanc_: quem jogou todos god of wars não p...              0         1\n",
       "4   recebendo notificação da netflix de cinquentas...              1         1\n",
       "5   rt @suckmenerd: vocês acreditam mm nisso dos 1...              0         1\n",
       "..                                                ...            ...       ...\n",
       "46  rt @meowddows: queria q tivesse crepusculo na ...              0         1\n",
       "47  minha mãe cancelo minha conta do netflix, vou ...              0         0\n",
       "48  a netflix vai colocar uma versão recente de be...              1         1\n",
       "49  eu perco mais tempo na netflix procurando film...              1         0\n",
       "50  sério netflix? aumentar a mensalidade? isso nã...              0         0\n",
       "51            conseguir botar netflix no vídeo game 😍              1         0\n",
       "\n",
       "[52 rows x 3 columns]"
      ]
     },
     "execution_count": 75,
     "metadata": {},
     "output_type": "execute_result"
    }
   ],
   "source": [
    "teste.head(52)"
   ]
  },
  {
   "cell_type": "code",
   "execution_count": 76,
   "metadata": {},
   "outputs": [
    {
     "data": {
      "text/plain": [
       "0.5"
      ]
     },
     "execution_count": 76,
     "metadata": {},
     "output_type": "execute_result"
    }
   ],
   "source": [
    "# Porcentagem de verdadeiros positivos (mensagens relevantes e que são classificadas como relevantes) \n",
    "VP = len(teste.loc[(teste[\"programa\"]==0)&(teste[\"Classificação\"]==0)])\n",
    "\n",
    "porVP = VP / total0\n",
    "porVP"
   ]
  },
  {
   "cell_type": "code",
   "execution_count": 77,
   "metadata": {},
   "outputs": [
    {
     "data": {
      "text/plain": [
       "0.48366013071895425"
      ]
     },
     "execution_count": 77,
     "metadata": {},
     "output_type": "execute_result"
    }
   ],
   "source": [
    "# Porcentagem de verdadeiros negativos (mensagens irrelevantes e que são classificadas como irrelevantes) \n",
    "VN = len(teste.loc[(teste[\"programa\"]==1)&(teste[\"Classificação\"]==1)])\n",
    "\n",
    "porVN = VN / total1\n",
    "porVN"
   ]
  },
  {
   "cell_type": "code",
   "execution_count": 78,
   "metadata": {},
   "outputs": [
    {
     "data": {
      "text/plain": [
       "0.5"
      ]
     },
     "execution_count": 78,
     "metadata": {},
     "output_type": "execute_result"
    }
   ],
   "source": [
    "# Porcentagem de falsos positivos (mensagens irrelevantes e que são classificadas como relevantes) \n",
    "FP =len(teste.loc[(teste[\"programa\"]==1)&(teste[\"Classificação\"]==0)])\n",
    "\n",
    "porFP = FP / total0\n",
    "porFP"
   ]
  },
  {
   "cell_type": "code",
   "execution_count": 79,
   "metadata": {},
   "outputs": [
    {
     "data": {
      "text/plain": [
       "0.5163398692810458"
      ]
     },
     "execution_count": 79,
     "metadata": {},
     "output_type": "execute_result"
    }
   ],
   "source": [
    "# Porcentagem de falsos negativos (mensagens relevantes e que são classificadas como irrelevantes) \n",
    "FN = len(teste.loc[(teste[\"programa\"]==0)&(teste[\"Classificação\"]==1)])\n",
    "\n",
    "porFN = FN / total1\n",
    "porFN"
   ]
  },
  {
   "cell_type": "markdown",
   "metadata": {},
   "source": [
    "___\n",
    "### Concluindo"
   ]
  },
  {
   "attachments": {},
   "cell_type": "markdown",
   "metadata": {},
   "source": [
    "   As proporções de acerto alcançadas pelo classificador indicam que o programa funciona com 50% de eficaz, sendo uma precisão mais abaixa do que o ideal. É imprescindível ressaltar que mensagens com sarcasmo e emojis ambiguos podem prejudicar a classificação dos tweets, de forma que o programa não identifica tais ironiais; como por exemplo o tweet:\n",
    "\n",
    "\"eu perco mais tempo na netflix procurando filme do q assistindo 🙄\", classificamos como 1, sendo esse bom para empresa, pois o usuario utiliza a plataforma. Porém, para o programa a classfificação é 0, sendo um tweet negativo. Assim vemos que o emoji 🙄 pode ser considerado negativo, porém no contexto real é um comentário positivo para nossa empresa. \n",
    "\n",
    "\n",
    "Uma possível melhoria para o classificador seria aumentar a base de Treinamento, classificando-o novamente a mão, aumentando a amostra de dados a se comparar. Isso porque, se usarmos o próprio software para a classificação dos novos tweets, o erro do classificador se propagara.  "
   ]
  }
 ],
 "metadata": {
  "kernelspec": {
   "display_name": "Python 3",
   "language": "python",
   "name": "python3"
  },
  "language_info": {
   "codemirror_mode": {
    "name": "ipython",
    "version": 3
   },
   "file_extension": ".py",
   "mimetype": "text/x-python",
   "name": "python",
   "nbconvert_exporter": "python",
   "pygments_lexer": "ipython3",
   "version": "3.7.3"
  }
 },
 "nbformat": 4,
 "nbformat_minor": 2
}
